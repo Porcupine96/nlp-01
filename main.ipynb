{
 "cells": [
  {
   "cell_type": "code",
   "execution_count": 317,
   "metadata": {},
   "outputs": [],
   "source": [
    "import os\n",
    "\n",
    "from regex import regex\n",
    "from collections import namedtuple"
   ]
  },
  {
   "cell_type": "code",
   "execution_count": 237,
   "metadata": {},
   "outputs": [],
   "source": [
    "data_dir = 'data'"
   ]
  },
  {
   "cell_type": "code",
   "execution_count": 238,
   "metadata": {},
   "outputs": [],
   "source": [
    "def read_file(path):\n",
    "    with open(path, 'r') as f:\n",
    "        lines = f.readlines()\n",
    "        content = ''.join(lines)\n",
    "        return content"
   ]
  },
  {
   "cell_type": "code",
   "execution_count": 448,
   "metadata": {},
   "outputs": [],
   "source": [
    "def resolve_title(bill_content):\n",
    "    try:\n",
    "        title_pattern = r'U\\s*S\\s*T\\s*A\\s*W\\s*A[\\s\\d\\p{L}\\p{P}]+?(?=Rozdział|Art)'\n",
    "        title = regex.search(title_pattern, bill_content).group(0)\n",
    "        cleansed = regex.sub('\\s+', ' ', title)\n",
    "        cleansed = regex.sub('U\\s*S\\s*T\\s*A\\s*W\\s*A', 'Ustawa', cleansed).strip(' ')\n",
    "        return cleansed\n",
    "    except:\n",
    "        return None"
   ]
  },
  {
   "cell_type": "code",
   "execution_count": 449,
   "metadata": {},
   "outputs": [],
   "source": [
    "class BillFile:\n",
    "    def __init__(self, file_name, content):\n",
    "        self.file_name = file_name\n",
    "        self.content = content\n",
    "        self.title = resolve_title(content)\n",
    "\n",
    "def read_files():\n",
    "    files = {}\n",
    "    for file_name in os.listdir(data_dir):\n",
    "        path = os.path.join(data_dir, file_name)\n",
    "        content = read_file(path)\n",
    "        files[file_name] = BillFile(file_name, content)\n",
    "    return files"
   ]
  },
  {
   "cell_type": "code",
   "execution_count": 450,
   "metadata": {},
   "outputs": [],
   "source": [
    "class Bill:\n",
    "    def __init__(self, position, number, year):\n",
    "        self.position = position\n",
    "        self.number = number\n",
    "        self.year = year\n",
    "    \n",
    "    def __repr__(self):\n",
    "        return '{0}-{1}-{2}'.format(self.position, self.number, self.year)"
   ]
  },
  {
   "cell_type": "code",
   "execution_count": 451,
   "metadata": {},
   "outputs": [],
   "source": [
    "files = read_files()\n",
    "\n",
    "from_1993 = { k: v for k, v in files.items() if k.startswith('1993') }"
   ]
  },
  {
   "cell_type": "markdown",
   "metadata": {},
   "source": [
    "## 1. External references\n",
    "---"
   ]
  },
  {
   "cell_type": "code",
   "execution_count": 469,
   "metadata": {},
   "outputs": [],
   "source": [
    "def journal_matches(text):\n",
    "    \"\"\"\n",
    "    Matches the part: Dz. U. Nr 183 (...)\n",
    "    \n",
    "    In journal content like: \n",
    "    \n",
    "    Art. 2.\n",
    "    W ustawie z dnia\n",
    "    29 lipca 2005 r. o obrocie instrumentami finansowymi (Dz. U. Nr 183, poz. 1538,\n",
    "    z późn. zm.[3]))\n",
    "    w art. 70 w ust. 2 pkt 1 otrzymuje brzmienie:\n",
    "    „1) art. 69\n",
    "\n",
    "    \"\"\"\n",
    "    \n",
    "    in_paren_pattern = r'\\(Dz.\\s?U.[^\\)]*\\)'\n",
    "    in_quotes_pattern = r'\"Dz.\\s?U.[^\\)]*\"' \n",
    "    \n",
    "    in_paren = list(regex.finditer(in_paren_pattern, text))\n",
    "    in_quotes = list(regex.finditer(in_quotes_pattern, text))\n",
    "    \n",
    "    return in_paren + in_quotes"
   ]
  },
  {
   "cell_type": "code",
   "execution_count": 468,
   "metadata": {},
   "outputs": [],
   "source": [
    "def foot_note_matches(text):\n",
    "    \"\"\"\n",
    "     Matches the part: Dz. U. z 2004 r. (...)\n",
    "     \n",
    "     In foot notes like:\n",
    "     \n",
    "    [4]) Zmiany tekstu jednolitego wymienionej ustawy zostały\n",
    "    ogłoszone w Dz. U. z 2004 r. Nr 273, poz. 2703, z 2005 r. Nr 155,\n",
    "    poz. 1297 i Nr 172, poz. 1440, z 2006 r. Nr 12, poz. 61, z 2007 r. Nr 23, poz.\n",
    "    136 i Nr 99, poz. 666, z 2008 r. Nr 218, poz. 1391 oraz z 2009 r. Nr 3, poz.\n",
    "    11, Nr 19, poz. 101, Nr 86, poz. 720, Nr 105, poz. 877, Nr 115, poz. 966,\n",
    "    Nr 143, poz. 1164 i Nr 157, poz. 1241. \n",
    "    \"\"\"\n",
    "    \n",
    "    foot_note_pattern = r'\\[\\d*\\]([\\s\\p{L}\\p{P}]*(?=Dz\\.\\s*U\\.))(Dz\\.\\s*U\\.\\s*(z\\s*\\d{4}\\s*r\\.\\s*|Nr\\s*\\d*[,\\.]\\s*|poz\\.\\s*\\d*[,\\.]?\\s*|i\\s*\\d*,?\\s*|oraz\\s*)*)'\n",
    "    return [match.group(2) for match in regex.finditer(foot_note_pattern, text)]"
   ]
  },
  {
   "cell_type": "code",
   "execution_count": 471,
   "metadata": {},
   "outputs": [],
   "source": [
    "def match_bills(register_match):\n",
    "    \"\"\"\n",
    "    It takes something like \"Dz. U z 2004 r. (...)\" as an input \n",
    "    matches positions and numbers to years and returns bill references.\n",
    "    \"\"\"\n",
    "    \n",
    "    year_matches = list(regex.finditer(r'z\\s(\\d{4})\\sr.\\s(Nr (\\d*)[,\\s]*poz\\.\\s(\\d*)[,i\\s]*)*', register_match))\n",
    "    \n",
    "    # TODO: handle hanging\n",
    "    \n",
    "    bills = []\n",
    "    for year_match in year_matches:\n",
    "        year = year_match.group(1)\n",
    "        bill_matches = regex.findall(r'Nr\\s(\\d*),?\\spoz\\.?\\s(\\d*)', year_match.group(0))\n",
    "        for bill_match in bill_matches:\n",
    "            position = bill_match[1]\n",
    "            number = bill_match[0]\n",
    "            bills.append(Bill(position, number, year))\n",
    "    return bills"
   ]
  },
  {
   "cell_type": "code",
   "execution_count": 472,
   "metadata": {},
   "outputs": [],
   "source": [
    "def search_for_bills(text): \n",
    "    bills = []\n",
    "    for journal_match in journal_matches(text):\n",
    "        journal_text = journal_match.group(0)\n",
    "        cleansed = regex.sub('\\s+', ' ', journal_text).strip('(\")')\n",
    "        bills += match_bills(cleansed)\n",
    "    return bills"
   ]
  },
  {
   "cell_type": "code",
   "execution_count": 473,
   "metadata": {},
   "outputs": [
    {
     "data": {
      "text/plain": [
       "[253-60-1991,\n",
       " 320-73-1991,\n",
       " 442-100-1991,\n",
       " 85-21-1992,\n",
       " 279-60-1993,\n",
       " 598-129-1993,\n",
       " 416-90-1993]"
      ]
     },
     "execution_count": 473,
     "metadata": {},
     "output_type": "execute_result"
    }
   ],
   "source": [
    "search_for_bills(test)"
   ]
  },
  {
   "cell_type": "code",
   "execution_count": 476,
   "metadata": {},
   "outputs": [],
   "source": [
    "# for name, bill in from_1993.items():\n",
    "#     print(name)\n",
    "#     for bill in search_for_bills(bill.content):\n",
    "#         print('     ' + str(bill))\n",
    "        "
   ]
  },
  {
   "cell_type": "code",
   "execution_count": null,
   "metadata": {},
   "outputs": [],
   "source": []
  },
  {
   "cell_type": "markdown",
   "metadata": {},
   "source": [
    "## 2. Internal references\n",
    "---"
   ]
  },
  {
   "cell_type": "code",
   "execution_count": null,
   "metadata": {},
   "outputs": [],
   "source": []
  },
  {
   "cell_type": "code",
   "execution_count": null,
   "metadata": {},
   "outputs": [],
   "source": []
  },
  {
   "cell_type": "code",
   "execution_count": null,
   "metadata": {},
   "outputs": [],
   "source": []
  },
  {
   "cell_type": "code",
   "execution_count": null,
   "metadata": {},
   "outputs": [],
   "source": []
  },
  {
   "cell_type": "code",
   "execution_count": null,
   "metadata": {},
   "outputs": [],
   "source": []
  },
  {
   "cell_type": "code",
   "execution_count": null,
   "metadata": {},
   "outputs": [],
   "source": []
  },
  {
   "cell_type": "markdown",
   "metadata": {},
   "source": [
    "## 3. Count occurrences of \"ustawa\"\n",
    "---"
   ]
  },
  {
   "cell_type": "code",
   "execution_count": 245,
   "metadata": {},
   "outputs": [],
   "source": [
    "def match_bill(files):\n",
    "    results = {}\n",
    "    \n",
    "    flexes = ['ustawa', 'ustawy', 'ustawy', 'ustaw', 'ustawie', \n",
    "              'ustawom',  'ustawę', 'ustawy', 'ustawą', 'ustawami',\n",
    "              'ustawie', 'ustawach', 'ustawo', 'ustawy'] \n",
    "    \n",
    "    alternatives = '|'.join(flexes)\n",
    "\n",
    "    pattern = r'(?i)\\b' + alternatives + '\\b'\n",
    "    \n",
    "    for file_name, content in files.items():\n",
    "        result = regex.findall((pattern), content)\n",
    "        results[file_name] = len(result)\n",
    "        \n",
    "    return results"
   ]
  },
  {
   "cell_type": "code",
   "execution_count": 246,
   "metadata": {},
   "outputs": [],
   "source": [
    "def summary(results):\n",
    "    least_n, least_v = None, None\n",
    "    most_n, most_v = None, None\n",
    "    total = 0\n",
    "    for file_name, result in results.items():\n",
    "        if least_v is None or least_v > result: \n",
    "            least_n, least_v = file_name, result\n",
    "        if most_v is None or most_v < result:\n",
    "            most_n, most_v = file_name, result\n",
    "        total += result\n",
    "        \n",
    "    print('---------- SUMMARY ----------')\n",
    "    print('least: {0:15} {1}'.format(least_n, least_v))\n",
    "    print('most:  {0:15} {1}'.format(most_n, most_v))\n",
    "    print('total: {0:21}'.format(total))\n",
    "    print('-----------------------------')"
   ]
  },
  {
   "cell_type": "code",
   "execution_count": 247,
   "metadata": {},
   "outputs": [
    {
     "name": "stdout",
     "output_type": "stream",
     "text": [
      "---------- SUMMARY ----------\n",
      "least: 1996_400.txt    0\n",
      "most:  2000_696.txt    304\n",
      "total:                 25940\n",
      "-----------------------------\n"
     ]
    }
   ],
   "source": [
    "results = match_bill(files)\n",
    "summary(results)"
   ]
  },
  {
   "cell_type": "code",
   "execution_count": null,
   "metadata": {},
   "outputs": [],
   "source": []
  },
  {
   "cell_type": "code",
   "execution_count": null,
   "metadata": {},
   "outputs": [],
   "source": []
  },
  {
   "cell_type": "code",
   "execution_count": 453,
   "metadata": {},
   "outputs": [],
   "source": [
    "# weirdness: Dz.U. z 1996 r. Nr 19, poz. 87  (USTAWA BUDŻETOWA)"
   ]
  },
  {
   "cell_type": "code",
   "execution_count": 340,
   "metadata": {},
   "outputs": [],
   "source": [
    "example = \"Dz.U. Nr 75, poz. 445, z 1991 r. Nr 60, poz. 253, Nr 73, poz. 320 i Nr 100, poz. 442, z 1992 r. Nr 21, poz. 85 oraz z 1993 r. Nr 60, poz. 279 i Nr 129, poz. 598\"\n",
    "\n",
    "# 445-75-... - hanging\n",
    "# 253-60-1991\n",
    "# 320-73-1991\n",
    "# 442-100-1991\n",
    "# 85-21-1992\n",
    "# 279-60-1993\n",
    "# 598-128-1993"
   ]
  }
 ],
 "metadata": {
  "kernelspec": {
   "display_name": "Python 3",
   "language": "python",
   "name": "python3"
  },
  "language_info": {
   "codemirror_mode": {
    "name": "ipython",
    "version": 3
   },
   "file_extension": ".py",
   "mimetype": "text/x-python",
   "name": "python",
   "nbconvert_exporter": "python",
   "pygments_lexer": "ipython3",
   "version": "3.7.2"
  }
 },
 "nbformat": 4,
 "nbformat_minor": 2
}
